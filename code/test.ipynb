{
 "cells": [
  {
   "cell_type": "code",
   "execution_count": 1,
   "metadata": {},
   "outputs": [],
   "source": [
    "# import necessary libraries \n",
    "\n",
    "import pandas as pd \n",
    "import numpy as np \n",
    "import re, string \n",
    "\n",
    "from sklearn.linear_model import LogisticRegression\n",
    "from sklearn.feature_extraction.text import TfidfVectorizer\n"
   ]
  },
  {
   "cell_type": "code",
   "execution_count": 9,
   "metadata": {},
   "outputs": [],
   "source": [
    "train = pd.read_csv('../datasets/train.csv', index_col='id')\n",
    "test = pd.read_csv('../datasets/test.csv', index_col='id')\n",
    "valid = pd.read_csv('../datasets/valid.csv', index_col='id')"
   ]
  },
  {
   "cell_type": "code",
   "execution_count": 10,
   "metadata": {},
   "outputs": [
    {
     "data": {
      "text/html": [
       "<div>\n",
       "<style scoped>\n",
       "    .dataframe tbody tr th:only-of-type {\n",
       "        vertical-align: middle;\n",
       "    }\n",
       "\n",
       "    .dataframe tbody tr th {\n",
       "        vertical-align: top;\n",
       "    }\n",
       "\n",
       "    .dataframe thead th {\n",
       "        text-align: right;\n",
       "    }\n",
       "</style>\n",
       "<table border=\"1\" class=\"dataframe\">\n",
       "  <thead>\n",
       "    <tr style=\"text-align: right;\">\n",
       "      <th></th>\n",
       "      <th>text</th>\n",
       "      <th>label</th>\n",
       "    </tr>\n",
       "    <tr>\n",
       "      <th>id</th>\n",
       "      <th></th>\n",
       "      <th></th>\n",
       "    </tr>\n",
       "  </thead>\n",
       "  <tbody>\n",
       "    <tr>\n",
       "      <th>0</th>\n",
       "      <td>Sam has an everlast treat each nite before bed...</td>\n",
       "      <td>dogs</td>\n",
       "    </tr>\n",
       "    <tr>\n",
       "      <th>1</th>\n",
       "      <td>The product is as it says. I keep an eye on it...</td>\n",
       "      <td>dogs</td>\n",
       "    </tr>\n",
       "    <tr>\n",
       "      <th>2</th>\n",
       "      <td>My Kitty thinks these are treats! He loves the...</td>\n",
       "      <td>dogs</td>\n",
       "    </tr>\n",
       "    <tr>\n",
       "      <th>3</th>\n",
       "      <td>This is the third or fourth time that we've or...</td>\n",
       "      <td>dogs</td>\n",
       "    </tr>\n",
       "    <tr>\n",
       "      <th>4</th>\n",
       "      <td>Put this on both my dogs. And they are scratch...</td>\n",
       "      <td>dogs</td>\n",
       "    </tr>\n",
       "  </tbody>\n",
       "</table>\n",
       "</div>"
      ],
      "text/plain": [
       "                                                 text label\n",
       "id                                                         \n",
       "0   Sam has an everlast treat each nite before bed...  dogs\n",
       "1   The product is as it says. I keep an eye on it...  dogs\n",
       "2   My Kitty thinks these are treats! He loves the...  dogs\n",
       "3   This is the third or fourth time that we've or...  dogs\n",
       "4   Put this on both my dogs. And they are scratch...  dogs"
      ]
     },
     "execution_count": 10,
     "metadata": {},
     "output_type": "execute_result"
    }
   ],
   "source": [
    "train.head()"
   ]
  },
  {
   "cell_type": "code",
   "execution_count": null,
   "metadata": {},
   "outputs": [],
   "source": [
    "class TextProcessor: \n",
    "    \n",
    "    def __init__(self) -> None:\n",
    "        self.stopwordsAll = [\"and\", \"or\"] # for demonstration \n",
    "    \n",
    "    \n",
    "    def preprocess(self,text):\n",
    "        \"\"\"String Processor \n",
    "        \n",
    "        - Strip the words \n",
    "        - Remove Punctuations \n",
    "        - Remove numbers\n",
    "         \n",
    "        \"\"\"\n",
    "\n",
    "        text = text.lower() \n",
    "        text = text.strip()\n",
    "        text = re.compile('<.*?>').sub(' ', text)\n",
    "        text = re.compile('[%s]' % re.escape(string.punctuation)).sub(' ', text)\n",
    "        text = re.sub('\\s+', ' ', text)\n",
    "        text = re.sub(r'\\[[0-9]*\\]', ' ', text)\n",
    "        text = re.sub(r'[^\\w\\s]', '', str(text).lower().strip())\n",
    "        text = re.sub(r'\\d', ' ', text)\n",
    "        text = re.sub(r'\\s+', ' ', text)\n",
    "        return text\n",
    "\n",
    "\n",
    "    \n",
    "    def stopword(self,string):\n",
    "        \n",
    "        a = [i for i in string.split() if i not in self.stopwordsAll]\n",
    "        return ' '.join(a)\n",
    "\n",
    "\n",
    "    def finalStep(self, string): \n",
    "        \n",
    "        return self.stopword(self.preprocess(string))\n",
    "    "
   ]
  }
 ],
 "metadata": {
  "kernelspec": {
   "display_name": "Python 3.8.10 64-bit",
   "language": "python",
   "name": "python3"
  },
  "language_info": {
   "codemirror_mode": {
    "name": "ipython",
    "version": 3
   },
   "file_extension": ".py",
   "mimetype": "text/x-python",
   "name": "python",
   "nbconvert_exporter": "python",
   "pygments_lexer": "ipython3",
   "version": "3.8.10"
  },
  "orig_nbformat": 4,
  "vscode": {
   "interpreter": {
    "hash": "31f2aee4e71d21fbe5cf8b01ff0e069b9275f58929596ceb00d14d90e3e16cd6"
   }
  }
 },
 "nbformat": 4,
 "nbformat_minor": 2
}
